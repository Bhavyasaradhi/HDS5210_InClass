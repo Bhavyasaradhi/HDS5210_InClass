{
  "cells": [
    {
      "cell_type": "markdown",
      "metadata": {
        "id": "view-in-github",
        "colab_type": "text"
      },
      "source": [
        "<a href=\"https://colab.research.google.com/github/Bhavyasaradhi/HDS5210_InClass/blob/master/week06/week06_assignment.ipynb\" target=\"_parent\"><img src=\"https://colab.research.google.com/assets/colab-badge.svg\" alt=\"Open In Colab\"/></a>"
      ]
    },
    {
      "cell_type": "markdown",
      "metadata": {
        "nbgrader": {
          "grade": false,
          "grade_id": "intro",
          "locked": true,
          "schema_version": 1,
          "solution": false
        },
        "id": "vTk23XbfX_E4"
      },
      "source": [
        "# Week 6 Exercises\n",
        "\n",
        "_McKinney 6.1_\n",
        "\n",
        "There are multiple ways to solve the problems below.  You can use any one of several approaches.  For example, you can read CSV files using Pandas or the csv module.  Your score won't depend on which modules you choose to use unless explicitly noted below, but your programming style will still matter."
      ]
    },
    {
      "cell_type": "markdown",
      "metadata": {
        "nbgrader": {
          "grade": false,
          "grade_id": "q1-description",
          "locked": true,
          "schema_version": 1,
          "solution": false
        },
        "id": "Bcm7wNtxX_E5"
      },
      "source": [
        "### 30.1 List of Allergies\n",
        "\n",
        "In the /data directory on the Jupyter server, there is a file called `allergies.json` that contains a list of patient allergies.  It is taken from sample data provided by the EHR vendor, Epic, here: https://open.epic.com/Clinical/Allergy\n",
        "\n",
        "Take some time to look at the structure of the file.  You can open it directly in Jupyter by clicking the _Home_ icon, then the _from_instructor_ folder, and then the _data_ folder.\n",
        "\n",
        "Within the file, you'll see that it is a dictionary with many items in it.  One of those items is called `entry` and that item is a list of things.  You can tell that because the item name is immediately followed by an opening square bracket, signifying the start of a list.  It's line 11 of the file: `  \"entry\": [`\n",
        "\n",
        "Write a function named `allergy_count(json_file)` that takes as one parameter the name of the JSON file and returns an integer number of entries in that file.  Your function should open the file, read the json into a Python object, and return how many items there are in the list of `entry`s."
      ]
    },
    {
      "cell_type": "code",
      "execution_count": 29,
      "metadata": {
        "id": "SFp_9tVLX_E5"
      },
      "outputs": [],
      "source": [
        "import json\n",
        "ALLERGIES_FILE=\"allergies.json\""
      ]
    },
    {
      "cell_type": "code",
      "execution_count": 30,
      "metadata": {
        "nbgrader": {
          "grade": false,
          "grade_id": "q1-answer",
          "locked": false,
          "schema_version": 1,
          "solution": true
        },
        "id": "pzWvIXMoX_E6"
      },
      "outputs": [],
      "source": [
        "import json\n",
        "\n",
        "def allergy_count(json_file):\n",
        "    \"\"\"\n",
        "    Counts the number of allergy entries in a JSON file.\n",
        "\n",
        "    Parameters:\n",
        "    json_file (str): The path to the JSON file containing allergy data.\n",
        "\n",
        "    Returns:\n",
        "    int: The number of entries in the 'entry' list of the JSON data.\n",
        "    \"\"\"\n",
        "    with open(json_file) as f:\n",
        "        data = json.load(f)\n",
        "\n",
        "    return len(data['entry'])\n",
        "\n"
      ]
    },
    {
      "cell_type": "code",
      "execution_count": 31,
      "metadata": {
        "colab": {
          "base_uri": "https://localhost:8080/"
        },
        "id": "TOxqhEDpX_E6",
        "outputId": "31a17c76-6a4d-4419-be7d-faaa2cf7e11d"
      },
      "outputs": [
        {
          "output_type": "execute_result",
          "data": {
            "text/plain": [
              "4"
            ]
          },
          "metadata": {},
          "execution_count": 31
        }
      ],
      "source": [
        "allergy_count(ALLERGIES_FILE)"
      ]
    },
    {
      "cell_type": "code",
      "execution_count": 32,
      "metadata": {
        "nbgrader": {
          "grade": true,
          "grade_id": "q1-tests",
          "locked": true,
          "points": 5,
          "schema_version": 1,
          "solution": false
        },
        "id": "iqEKdrNDX_E6"
      },
      "outputs": [],
      "source": [
        "assert type(allergy_count(ALLERGIES_FILE)) == int\n",
        "assert allergy_count(ALLERGIES_FILE) == 4"
      ]
    },
    {
      "cell_type": "markdown",
      "metadata": {
        "id": "TGAzpiZDX_E6"
      },
      "source": [
        "### 30.2 Number of Patients\n",
        "\n",
        "If you dig a little bit deaper into this list of allergies, you'll see that each result has a patient associated with it.  Create a funcation called `patient_count(json_file)` that will count how many unique patients we have in this JSON structure.  "
      ]
    },
    {
      "cell_type": "code",
      "execution_count": 33,
      "metadata": {
        "id": "YQqdgeHzxhpE"
      },
      "outputs": [],
      "source": [
        "import json\n",
        "import numpy as np\n",
        "\n",
        "def patient_count(ALLERGIES_FILE):\n",
        "    \"\"\"\n",
        "    Counts the number of unique patients in a JSON file containing allergy data.\n",
        "\n",
        "    Parameters:\n",
        "    ALLERGIES_FILE (str): The path to the JSON file containing allergy data.\n",
        "\n",
        "    Returns:\n",
        "    int: The number of unique patients based on the 'display' name in the JSON data.\n",
        "    \"\"\"\n",
        "    # Load JSON data from the specified file\n",
        "    data = json.load(open(ALLERGIES_FILE, 'r'))\n",
        "    temp_list = []\n",
        "\n",
        "    # Iterate through each entry to extract patient display names\n",
        "    for patient in data[\"entry\"]:\n",
        "        if \"resource\" in patient:\n",
        "            if \"patient\" in patient[\"resource\"]:\n",
        "                temp_list.append(patient[\"resource\"][\"patient\"][\"display\"])\n",
        "\n",
        "    # Using numpy to get a unique list of patient display names\n",
        "    x = np.array(temp_list)\n",
        "    uniq_list = np.unique(x)\n",
        "\n",
        "    return len(uniq_list)\n",
        "\n",
        "\n"
      ]
    },
    {
      "cell_type": "code",
      "execution_count": 34,
      "metadata": {
        "colab": {
          "base_uri": "https://localhost:8080/"
        },
        "id": "Q7ftcrKhX_E7",
        "outputId": "9fd47667-c6de-4f05-d2da-f79f26430e21"
      },
      "outputs": [
        {
          "output_type": "execute_result",
          "data": {
            "text/plain": [
              "2"
            ]
          },
          "metadata": {},
          "execution_count": 34
        }
      ],
      "source": [
        "patient_count(ALLERGIES_FILE)"
      ]
    },
    {
      "cell_type": "code",
      "execution_count": 35,
      "metadata": {
        "id": "lj6_lPDXX_E7"
      },
      "outputs": [],
      "source": [
        "assert type(patient_count(ALLERGIES_FILE)) == int\n",
        "assert patient_count(ALLERGIES_FILE) == 2"
      ]
    },
    {
      "cell_type": "markdown",
      "metadata": {
        "id": "gK1MmsGlX_E7"
      },
      "source": [
        "### 30.3 How Many Allergies per Patient\n",
        "\n",
        "Although each entry is a separate allergy, several of them are for the same patient.  Write a function called `allergy_per_patient(json_file)` that counts up how many allergies each patient has.\n"
      ]
    },
    {
      "cell_type": "code",
      "execution_count": 39,
      "metadata": {
        "id": "o1bbTzsNX_E7"
      },
      "outputs": [],
      "source": [
        "import json\n",
        "\n",
        "def allergy_per_patient(ALLERGIES_FILE):\n",
        "    \"\"\"\n",
        "    Counts the number of allergies per patient in a JSON file containing allergy data.\n",
        "\n",
        "    Parameters:\n",
        "    ALLERGIES_FILE (str): The path to the JSON file containing allergy data.\n",
        "\n",
        "    Returns:\n",
        "    dict: A dictionary where keys are patient display names and values are the count of allergies for each patient.\n",
        "    \"\"\"\n",
        "    # Load JSON data from the specified file\n",
        "    data = json.load(open(ALLERGIES_FILE, 'r'))\n",
        "    all_counter = {}  # Dictionary to hold allergy counts per patient\n",
        "\n",
        "    # Iterate through each entry to extract patient display names and count allergies\n",
        "    for patient in data[\"entry\"]:\n",
        "        if \"resource\" in patient:\n",
        "            if \"patient\" in patient[\"resource\"]:\n",
        "                alg = patient[\"resource\"][\"patient\"][\"display\"]\n",
        "                # Update the allergy count for the patient\n",
        "                if alg in all_counter:\n",
        "                    all_counter[alg] += 1\n",
        "                else:\n",
        "                    all_counter[alg] = 1\n",
        "\n",
        "    return all_counter\n"
      ]
    },
    {
      "cell_type": "code",
      "execution_count": 40,
      "metadata": {
        "colab": {
          "base_uri": "https://localhost:8080/"
        },
        "id": "eIRwY0FTX_E7",
        "outputId": "30cedb4f-4c65-4c42-96f9-cc7fe0d039f5"
      },
      "outputs": [
        {
          "output_type": "execute_result",
          "data": {
            "text/plain": [
              "{'Jason Argonaut': 3, 'Paul Boal': 1}"
            ]
          },
          "metadata": {},
          "execution_count": 40
        }
      ],
      "source": [
        "allergy_per_patient(ALLERGIES_FILE)"
      ]
    },
    {
      "cell_type": "code",
      "execution_count": 41,
      "metadata": {
        "id": "qu4PhGFtX_E7"
      },
      "outputs": [],
      "source": [
        "assert type(allergy_per_patient(ALLERGIES_FILE)) == dict\n",
        "assert allergy_per_patient(ALLERGIES_FILE) == {'Paul Boal': 1, 'Jason Argonaut': 3}"
      ]
    },
    {
      "cell_type": "markdown",
      "metadata": {
        "nbgrader": {
          "grade": false,
          "grade_id": "q2-question",
          "locked": true,
          "schema_version": 1,
          "solution": false
        },
        "id": "jcAYE6zNX_E7"
      },
      "source": [
        "### 30.4 Patient Allergies and Reaction\n",
        "\n",
        "You'll see in the file that each of the items in the `entry` list have several other attributes including a patient name, substance text representation, and a reaction manifestation.  Create a function named `allergy_list(json_file)` that will create an output list that has patient name, allergy, and reaction for each `entry`.  The actual result you should get will be:\n",
        "\n",
        "```python\n",
        "[['Jason Argonaut', 'PENICILLIN G', 'Hives'],\n",
        " ['Paul Boal', 'PENICILLIN G', 'Bruising'],\n",
        " ['Jason Argonaut', 'SHELLFISH-DERIVED PRODUCTS', 'Itching'],\n",
        " ['Jason Argonaut', 'STRAWBERRY', 'Anaphylaxis']]\n",
        "```\n",
        "\n",
        "You'll notice that the reaction and the manifestation of that action are lists.  You only need to capture the first reaction and the first manifestation of the action.  That is, if there is a list of things, just output the first one."
      ]
    },
    {
      "cell_type": "code",
      "source": [
        "import json\n",
        "\n",
        "def allergy_list(ALLERGIES_FILE):\n",
        "    \"\"\"\n",
        "    Compiles a list of allergies for each patient in a JSON file.\n",
        "\n",
        "    Parameters:\n",
        "    ALLERGIES_FILE (str): The path to the JSON file containing allergy data.\n",
        "\n",
        "    Returns:\n",
        "    list: A list of lists, where each sublist contains:\n",
        "        - Patient display name\n",
        "        - Allergy substance\n",
        "        - Reaction manifestation (if available)\n",
        "    \"\"\"\n",
        "    # Load JSON data from the specified file\n",
        "    with open(ALLERGIES_FILE, 'r') as f:\n",
        "        data = json.load(f)\n",
        "\n",
        "    all_list = []  # List to hold allergy information\n",
        "\n",
        "    # Iterate through each entry to extract patient and allergy information\n",
        "    for patient in data.get(\"entry\", []):\n",
        "        if \"resource\" in patient:\n",
        "            resource = patient[\"resource\"]\n",
        "\n",
        "            name = resource.get(\"patient\", {}).get(\"display\", \"Unknown\")\n",
        "            subs = resource.get(\"substance\", {}).get(\"text\", \"Unknown\")\n",
        "            mani = \"Unknown\"  # Default value for manifestation\n",
        "\n",
        "            if \"reaction\" in resource:\n",
        "                react = resource[\"reaction\"]\n",
        "                if isinstance(react, list) and len(react) > 0:\n",
        "                    mani = react[0].get(\"manifestation\", [{}])[0].get(\"text\", \"Unknown\")\n",
        "\n",
        "            # Append the collected data to the all_list\n",
        "            all_list.append([name, subs, mani])\n",
        "\n",
        "    return all_list\n",
        "\n"
      ],
      "metadata": {
        "id": "aGq9XTmaeBPu"
      },
      "execution_count": 42,
      "outputs": []
    },
    {
      "cell_type": "code",
      "execution_count": 43,
      "metadata": {
        "colab": {
          "base_uri": "https://localhost:8080/"
        },
        "id": "NCJjReBXX_E7",
        "outputId": "5c772c5c-4303-48a0-dfd6-2d3615f30acf"
      },
      "outputs": [
        {
          "output_type": "execute_result",
          "data": {
            "text/plain": [
              "[['Jason Argonaut', 'PENICILLIN G', 'Hives'],\n",
              " ['Jason Argonaut', 'SHELLFISH-DERIVED PRODUCTS', 'Itching'],\n",
              " ['Jason Argonaut', 'STRAWBERRY', 'Anaphylaxis'],\n",
              " ['Paul Boal', 'PENICILLIN G', 'Bruising']]"
            ]
          },
          "metadata": {},
          "execution_count": 43
        }
      ],
      "source": [
        "allergy_list(ALLERGIES_FILE)"
      ]
    },
    {
      "cell_type": "code",
      "execution_count": 44,
      "metadata": {
        "nbgrader": {
          "grade": true,
          "grade_id": "q2-tests",
          "locked": true,
          "points": 10,
          "schema_version": 1,
          "solution": false
        },
        "id": "8OiGC0yNX_E7"
      },
      "outputs": [],
      "source": [
        "assert allergy_list(ALLERGIES_FILE) == [['Jason Argonaut', 'PENICILLIN G', 'Hives'],\n",
        " ['Jason Argonaut', 'SHELLFISH-DERIVED PRODUCTS', 'Itching'],\n",
        " ['Jason Argonaut', 'STRAWBERRY', 'Anaphylaxis'],\n",
        " ['Paul Boal', 'PENICILLIN G', 'Bruising']]\n"
      ]
    },
    {
      "cell_type": "markdown",
      "metadata": {
        "nbgrader": {
          "grade": false,
          "grade_id": "q3-question",
          "locked": true,
          "schema_version": 1,
          "solution": false
        },
        "id": "TIM7UM9WX_E7"
      },
      "source": [
        "### 30.5 Allergy Reaction\n",
        "\n",
        "Write a function called `allergy_reaction(json_file,patient,substance)` that takes three parameter and returns the reaction that will happen if the patient takes the specified substance.  You can solve this, in part, by calling your `allergy_list` function inside your new `allergy_reaction` function.\n",
        "\n",
        "If the substance is not found in the allergy list, the function should return None."
      ]
    },
    {
      "cell_type": "code",
      "source": [
        "import json\n",
        "\n",
        "def allergy_reaction(json_file, patient, substance):\n",
        "    \"\"\"\n",
        "    Retrieves the reaction associated with a specific patient and substance from a JSON file.\n",
        "\n",
        "    Parameters:\n",
        "    json_file (str): The path to the JSON file containing allergy data.\n",
        "    patient (str): The display name of the patient.\n",
        "    substance (str): The name of the allergy substance.\n",
        "\n",
        "    Returns:\n",
        "    str or None: The reaction manifestation if found, otherwise None.\n",
        "    \"\"\"\n",
        "    # Load JSON data from the specified file\n",
        "    with open(json_file, 'r') as f:\n",
        "        data = json.load(f)\n",
        "\n",
        "    # Search through each entry in the data\n",
        "    for entry in data.get(\"entry\", []):\n",
        "        if \"resource\" in entry:\n",
        "            resource = entry[\"resource\"]\n",
        "\n",
        "            # Check if both patient and substance match\n",
        "            if (resource.get(\"patient\", {}).get(\"display\") == patient and\n",
        "                resource.get(\"substance\", {}).get(\"text\") == substance):\n",
        "\n",
        "                # If the substance is found, return its reaction\n",
        "                if \"reaction\" in resource and resource[\"reaction\"]:\n",
        "                    return resource[\"reaction\"][0].get(\"manifestation\", [{}])[0].get(\"text\", \"Unknown\")\n",
        "\n",
        "    # If no match is found, return None\n",
        "    return None\n",
        "\n"
      ],
      "metadata": {
        "id": "J48mSnCeeN8h"
      },
      "execution_count": 45,
      "outputs": []
    },
    {
      "cell_type": "code",
      "execution_count": 46,
      "metadata": {
        "colab": {
          "base_uri": "https://localhost:8080/",
          "height": 36
        },
        "id": "YwU1EO-BX_E8",
        "outputId": "cd025e6e-64f6-4925-8afb-96099da5369d"
      },
      "outputs": [
        {
          "output_type": "execute_result",
          "data": {
            "text/plain": [
              "'Hives'"
            ],
            "application/vnd.google.colaboratory.intrinsic+json": {
              "type": "string"
            }
          },
          "metadata": {},
          "execution_count": 46
        }
      ],
      "source": [
        "allergy_reaction(ALLERGIES_FILE, 'Jason Argonaut', 'PENICILLIN G')"
      ]
    },
    {
      "cell_type": "code",
      "execution_count": 47,
      "metadata": {
        "nbgrader": {
          "grade": true,
          "grade_id": "q3-tests",
          "locked": true,
          "points": 5,
          "schema_version": 1,
          "solution": false
        },
        "id": "RM_GuqrTX_E8"
      },
      "outputs": [],
      "source": [
        "assert allergy_reaction(ALLERGIES_FILE, 'Jason Argonaut', 'PENICILLIN G') == 'Hives'\n",
        "assert allergy_reaction(ALLERGIES_FILE, 'Jason Argonaut', 'SHELLFISH-DERIVED PRODUCTS') == 'Itching'\n",
        "assert allergy_reaction(ALLERGIES_FILE, 'Jason Argonaut', 'STRAWBERRY') == 'Anaphylaxis'\n",
        "assert allergy_reaction(ALLERGIES_FILE, 'Jason Argonaut', 'PENICILLIN') == None\n",
        "assert allergy_reaction(ALLERGIES_FILE, 'Paul Boal', 'PENICILLIN G') == 'Bruising'"
      ]
    },
    {
      "cell_type": "markdown",
      "metadata": {
        "id": "zN6KsgJhX_E8"
      },
      "source": [
        "---\n",
        "\n",
        "## Check your work above\n",
        "\n",
        "If you didn't get them all correct, take a few minutes to think through those that aren't correct.\n",
        "\n",
        "\n",
        "## Submitting Your Work\n",
        "\n",
        "In order to submit your work, you'll need to save this notebook file back to GitHub.  To do that in Google Colab:\n",
        "1. File -> Save a Copy in GitHub\n",
        "2. Make sure your HDS5210 repository is selected\n",
        "3. Make sure the file name includes the week number like this: `week06/week06_assignment_2.ipynb`\n",
        "4. Add a commit message that means something\n",
        "\n",
        "**Be sure week names are lowercase and use a two digit week number!!**\n",
        "\n",
        "**Be sure you use the same file name provided by the instructor!!**\n",
        "\n"
      ]
    }
  ],
  "metadata": {
    "celltoolbar": "Create Assignment",
    "kernelspec": {
      "display_name": "Python 3",
      "language": "python",
      "name": "python3"
    },
    "language_info": {
      "codemirror_mode": {
        "name": "ipython",
        "version": 3
      },
      "file_extension": ".py",
      "mimetype": "text/x-python",
      "name": "python",
      "nbconvert_exporter": "python",
      "pygments_lexer": "ipython3",
      "version": "3.9.16"
    },
    "colab": {
      "provenance": [],
      "include_colab_link": true
    }
  },
  "nbformat": 4,
  "nbformat_minor": 0
}