{
 "cells": [
  {
   "cell_type": "code",
   "execution_count": null,
   "metadata": {},
   "outputs": [],
   "source": [
    "def age_gender_label(age, gender) :\n",
    "    #Write a set of if conditions either sequential or inline to properly label people according to age and gender\n",
    "    return None"
   ]
  },
  {
   "cell_type": "code",
   "execution_count": null,
   "metadata": {},
   "outputs": [],
   "source": [
    "# Write code to make these tests pass\n",
    "assert(age_gender_label(10, \"Male\") == \"boy\")\n",
    "assert(age_gender_label(10, \"Female\") == \"girl\")\n",
    "assert(age_gender_label(10, \"Non-Binary\") == \"child\")\n",
    "\n",
    "assert(age_gender_label(100, \"Male\") == \"man\")\n",
    "assert(age_gender_label(100, \"Female\") == \"woman\")\n",
    "assert(age_gender_label(100, \"Non-Binary\") == \"adult\")"
   ]
  },
  {
   "cell_type": "code",
   "execution_count": null,
   "metadata": {},
   "outputs": [],
   "source": [
    "# Are there any other tests that you think we should run? Create your own tests below"
   ]
  }
 ],
 "metadata": {
  "language_info": {
   "name": "python"
  }
 },
 "nbformat": 4,
 "nbformat_minor": 2
}
