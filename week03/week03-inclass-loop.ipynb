{
 "cells": [
  {
   "cell_type": "code",
   "execution_count": null,
   "metadata": {},
   "outputs": [],
   "source": [
    "\n",
    "## For every even number between 1 and 20 (including 20), print that number\n",
    "\n"
   ]
  },
  {
   "cell_type": "code",
   "execution_count": null,
   "metadata": {},
   "outputs": [],
   "source": [
    "## Print all of the multiples of 3 less than 40\n",
    "\n",
    "\n"
   ]
  },
  {
   "cell_type": "code",
   "execution_count": null,
   "metadata": {},
   "outputs": [],
   "source": [
    "## Write a loop that tests all of the numbers between 1 and 100 and returns the values that are prime numbers.\n",
    "# A prime number is not cleanly divisible by any value except 1 and itself.\n",
    "# Hint #1: Use a Range\n",
    "# Hint #2: This could require two different for loops, one nested inside the other or a set of conditions combined together.\n",
    "# Hint #3: We only need to see if there is a divisor - we do not need to check all of them."
   ]
  }
 ],
 "metadata": {
  "language_info": {
   "name": "python"
  }
 },
 "nbformat": 4,
 "nbformat_minor": 2
}
