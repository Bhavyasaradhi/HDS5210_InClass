{
 "cells": [
  {
   "cell_type": "code",
   "execution_count": null,
   "metadata": {},
   "outputs": [],
   "source": [
    "## Write a loop that tests all of the numbers between 1 and 100 and returns the values that are primes.\n",
    "# A prime number is not cleanly divisible by any value except 1 and itself.\n",
    "# \n",
    "\n"
   ]
  }
 ],
 "metadata": {
  "language_info": {
   "name": "python"
  }
 },
 "nbformat": 4,
 "nbformat_minor": 2
}
