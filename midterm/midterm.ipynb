{
  "cells": [
    {
      "cell_type": "markdown",
      "metadata": {
        "id": "view-in-github",
        "colab_type": "text"
      },
      "source": [
        "<a href=\"https://colab.research.google.com/github/Bhavyasaradhi/HDS5210_InClass/blob/master/midterm/midterm.ipynb\" target=\"_parent\"><img src=\"https://colab.research.google.com/assets/colab-badge.svg\" alt=\"Open In Colab\"/></a>"
      ]
    },
    {
      "cell_type": "markdown",
      "metadata": {
        "id": "iuV-EQvUNoEx"
      },
      "source": [
        "### Mid-term for HDS5210\n",
        "\n",
        "Your supervisor is concerned about 4-year survival risks for COPD. She has asked for you to do some analysis using a new metric, BODE. BODE is an improvement on a previous metric and promises to provide insight on survival risks.\n",
        "\n",
        "BODE is defined here. https://www.mdcalc.com/calc/3916/bode-index-copd-survival#evidence\n",
        "\n",
        "Your assignment is to create a BODE calculation, use it to calculate BODE scores and BODE survival rates for a group of patients. Then we want to evaluate the average BODE scores and BODE survival rates for each area hospital.\n",
        "\n",
        "Your patient input file will have the following columns:\n",
        "NAME,SSN,LANGUAGE,JOB,HEIGHT_M,WEIGHT_KG,fev_pct,dyspnea_description,distance_in_meters,hospital\n",
        "\n",
        "BODE calculations require a BMI value, so you will have to create a function for it.\n",
        "\n",
        "Your output should be in the form of two CSV files, patient_output.csv and hospital_output.csv.\n",
        "\n",
        "Patient_output will have the following columns:\n",
        "NAME,BODE_SCORE,BODE_RISK,HOSPITAL\n",
        "\n",
        "Hospital output will have the following columns:\n",
        "HOSPITAL_NAME, COPD_COUNT, PCT_OF_COPD_CASES_OVER_BEDS, AVG_SCORE, AVG_RISK\n",
        "\n",
        "Each function you create should have documentation and a suitable number of test cases. If the input data could be wrong, make sure to raise a Value Error.\n",
        "\n",
        "For this assignment, use the doctest, json, and csv libraries. Pandas is not allowed for this assignment."
      ]
    },
    {
      "cell_type": "code",
      "execution_count": 13,
      "metadata": {
        "id": "rfbA8ylmNoE0"
      },
      "outputs": [],
      "source": [
        "import doctest\n",
        "import json\n",
        "import csv"
      ]
    },
    {
      "cell_type": "markdown",
      "metadata": {
        "id": "nkacvOsqNoE0"
      },
      "source": [
        "### Step 1: Calculate BMI"
      ]
    },
    {
      "cell_type": "code",
      "execution_count": 14,
      "metadata": {
        "id": "1t3iDhi1NoE0"
      },
      "outputs": [],
      "source": [
        "def step1_bmi(weight_kg, height_m):\n",
        "    \"\"\"(int, float) -> float\n",
        "\n",
        "    Calculate BMI\n",
        "\n",
        "    >>> step1_bmi(60, 1.60)\n",
        "    23.44\n",
        "\n",
        "    >>> step1_bmi(96, 1.66)\n",
        "    34.84\n",
        "\n",
        "    \"\"\"\n",
        "    # weight / height ** 2\n",
        "    return round((weight_kg / (height_m ** 2)), 2)"
      ]
    },
    {
      "cell_type": "code",
      "source": [
        "# step1_bmi(96, 1.66)"
      ],
      "metadata": {
        "id": "ZG5Qn95BN001"
      },
      "execution_count": 15,
      "outputs": []
    },
    {
      "cell_type": "code",
      "source": [
        "doctest.run_docstring_examples(step1_bmi, globals(),verbose=True)"
      ],
      "metadata": {
        "colab": {
          "base_uri": "https://localhost:8080/"
        },
        "id": "fGUQpq5kN4BY",
        "outputId": "bd69a8d7-d0a1-40f9-b5a3-b30a8c011f41"
      },
      "execution_count": 16,
      "outputs": [
        {
          "output_type": "stream",
          "name": "stdout",
          "text": [
            "Finding tests in NoName\n",
            "Trying:\n",
            "    step1_bmi(60, 1.60)\n",
            "Expecting:\n",
            "    23.44\n",
            "ok\n",
            "Trying:\n",
            "    step1_bmi(96, 1.66)\n",
            "Expecting:\n",
            "    34.84\n",
            "ok\n"
          ]
        }
      ]
    },
    {
      "cell_type": "markdown",
      "metadata": {
        "id": "GDnp3pECNoE1"
      },
      "source": [
        "### Step 2: Calculate BODE Score"
      ]
    },
    {
      "cell_type": "code",
      "execution_count": 17,
      "metadata": {
        "id": "0e_I9yrLNoE1"
      },
      "outputs": [],
      "source": [
        "def step2_bode(bmi, fev, dyspnea, dist):\n",
        "    \"\"\"(int, int, str, int) -> int\n",
        "\n",
        "    Calculate BODE score using BMI, FEV1(% of predicted), dyspnea description, and distance walked(6 mins).\n",
        "\n",
        "    Dyspnea descriptions are mapped to numerical values(mMRC) based on (from the mdcalc website):\n",
        "    - 0: Dyspnea only with strenuous exercise\n",
        "    - 1: Dyspnea when hurrying or walking up a slight hill\n",
        "    - 2: Walks slower than people of same age because of dyspnea or stops for breath when walking at own pace\n",
        "    - 3: Stops for breath after walking 100 yards (91 m) or after a few minutes\n",
        "    - 4: Too dyspneic to leave house or breathless when dressing\n",
        "\n",
        "    >>> step2_bode(34, 34, \"Dyspnea only with strenuous exercise\", 340)\n",
        "    4\n",
        "    >>> step2_bode(22, 33, \"Too dyspneic to leave house or breathless when dressing\", 150)\n",
        "    8\n",
        "\n",
        "    \"\"\"\n",
        "    # BMI score\n",
        "    bmi_score = 0 if bmi > 21 else 1\n",
        "\n",
        "    # FEV1% score\n",
        "    if fev >= 65:\n",
        "        fev_score = 0\n",
        "    elif 50 <= fev < 65:\n",
        "        fev_score = 1\n",
        "    elif 36 <= fev < 50:\n",
        "        fev_score = 2\n",
        "    else:\n",
        "        fev_score = 3\n",
        "\n",
        "    # Map dyspnea to there appropriate numbers\n",
        "    dmap = {\n",
        "        \"Dyspnea only with strenuous exercise\": 0,\n",
        "        \"Dyspnea when hurrying or walking up a slight hill\": 1,\n",
        "        \"Walks slower than people of same age because of dyspnea or stops for breath when walking at own pace\": 2,\n",
        "        \"Stops for breath after walking 100 yards (91 m) or after a few minutes\": 3,\n",
        "        \"Too dyspneic to leave house or breathless when dressing\": 4,\n",
        "\n",
        "        'ONLY STRENUOUS EXERCISE' : 0,\n",
        "        'WHEN HURRYING': 1,\n",
        "        'WALKING UPHILL': 1,\n",
        "        'SLOWER THAN PEERS': 2,\n",
        "        'STOPS WHEN WALKING AT PACE': 2,\n",
        "        'STOPS AFTER A FEW MINUTES': 3,\n",
        "        'STOPS AFTER 100 YARDS': 3,\n",
        "        'BREATHLESS WHEN DRESSING': 4,\n",
        "        'UNABLE TO LEAVE HOME': 4\n",
        "\n",
        "    }\n",
        "\n",
        "    dyspnea_level = dmap[dyspnea]\n",
        "\n",
        "    # Convert dyspnea level to points\n",
        "    if dyspnea_level in [0, 1]:\n",
        "        dyspnea_score = 0\n",
        "    elif dyspnea_level == 2:\n",
        "        dyspnea_score = 1\n",
        "    elif dyspnea_level == 3:\n",
        "        dyspnea_score = 2\n",
        "    elif dyspnea_level == 4:\n",
        "        dyspnea_score = 3\n",
        "\n",
        "    # Calculate walking distance score\n",
        "    if dist >= 350:\n",
        "        dist_score = 0\n",
        "    elif 250 <= dist < 350:\n",
        "        dist_score = 1\n",
        "    elif 150 <= dist < 250:\n",
        "        dist_score = 2\n",
        "    else:\n",
        "        dist_score = 3\n",
        "\n",
        "    # Sum them all\n",
        "    bode = bmi_score + fev_score + dyspnea_score + dist_score\n",
        "    return bode"
      ]
    },
    {
      "cell_type": "code",
      "source": [
        "# step2_bode(22, 33, \"Too dyspneic to leave house or breathless when dressing\", 150)"
      ],
      "metadata": {
        "id": "6zIFjglXOIfi"
      },
      "execution_count": 18,
      "outputs": []
    },
    {
      "cell_type": "code",
      "source": [
        "doctest.run_docstring_examples(step2_bode, globals(),verbose=True)"
      ],
      "metadata": {
        "colab": {
          "base_uri": "https://localhost:8080/"
        },
        "id": "4P7j3p03OOpI",
        "outputId": "db91d535-56bc-4da9-b2fd-5f100e3a461e"
      },
      "execution_count": 19,
      "outputs": [
        {
          "output_type": "stream",
          "name": "stdout",
          "text": [
            "Finding tests in NoName\n",
            "Trying:\n",
            "    step2_bode(34, 34, \"Dyspnea only with strenuous exercise\", 340)\n",
            "Expecting:\n",
            "    4\n",
            "ok\n",
            "Trying:\n",
            "    step2_bode(22, 33, \"Too dyspneic to leave house or breathless when dressing\", 150)\n",
            "Expecting:\n",
            "    8\n",
            "ok\n"
          ]
        }
      ]
    },
    {
      "cell_type": "markdown",
      "metadata": {
        "id": "XzJm-VjpNoE1"
      },
      "source": [
        "### Step 3: Calculate BODE Risk"
      ]
    },
    {
      "cell_type": "code",
      "execution_count": 20,
      "metadata": {
        "id": "LMZG2g08NoE2"
      },
      "outputs": [],
      "source": [
        "def step3_risk(score):\n",
        "    \"\"\"(int) -> str\n",
        "    Calculate 4-year survival risk based on BODE index score which is calculated in previous step.\n",
        "\n",
        "    The rates correspond to BODE index:\n",
        "    - 0–2: 80%\n",
        "    - 3–4: 67%\n",
        "    - 5–6: 57%\n",
        "    - 7–10: 18%\n",
        "\n",
        "    >>> step3_risk(4)\n",
        "    '67%'\n",
        "\n",
        "    >>> step3_risk(8)\n",
        "    '18%'\n",
        "\n",
        "    \"\"\"\n",
        "\n",
        "    # converted rates according to the site\n",
        "    if score <= 2:\n",
        "        return \"80%\"\n",
        "    elif 3 <= score <= 4:\n",
        "        return \"67%\"\n",
        "    elif 5 <= score <= 6:\n",
        "        return \"57%\"\n",
        "    elif 7 <= score <= 10:\n",
        "        return \"18%\"\n"
      ]
    },
    {
      "cell_type": "code",
      "source": [
        "doctest.run_docstring_examples(step3_risk, globals(),verbose=True)"
      ],
      "metadata": {
        "colab": {
          "base_uri": "https://localhost:8080/"
        },
        "id": "5wbaAGrvOZhC",
        "outputId": "c89b305f-5055-4a72-d1a9-14a6dc9580b9"
      },
      "execution_count": 21,
      "outputs": [
        {
          "output_type": "stream",
          "name": "stdout",
          "text": [
            "Finding tests in NoName\n",
            "Trying:\n",
            "    step3_risk(4)\n",
            "Expecting:\n",
            "    '67%'\n",
            "ok\n",
            "Trying:\n",
            "    step3_risk(8)\n",
            "Expecting:\n",
            "    '18%'\n",
            "ok\n"
          ]
        }
      ]
    },
    {
      "cell_type": "markdown",
      "metadata": {
        "id": "YvIQIuWuNoE2"
      },
      "source": [
        "### Step 4: Load Hospital Data"
      ]
    },
    {
      "cell_type": "code",
      "execution_count": 22,
      "metadata": {
        "id": "Gum2f0HANoE2"
      },
      "outputs": [],
      "source": [
        "def patient_data(c):\n",
        "    \"\"\"(str) -> list\n",
        "\n",
        "    Load patient data from provided CSV file(patient.csv).\n",
        "    \"\"\"\n",
        "    with open(c, 'r') as file:\n",
        "\n",
        "        reader = csv.DictReader(file)\n",
        "        patient = list(reader)\n",
        "\n",
        "    # print(type(patient))\n",
        "    return patient\n",
        "\n",
        "def hospital_data(js):\n",
        "    \"\"\"(str) -> list\n",
        "\n",
        "    Load hospital data from provided JSON file(hospitals.json).\n",
        "    \"\"\"\n",
        "    with open(js, 'r') as file:\n",
        "\n",
        "        hospital = json.load(file)\n",
        "\n",
        "    # print(type(hospital))\n",
        "    return hospital"
      ]
    },
    {
      "cell_type": "code",
      "source": [
        "# patient_data('/content/patient.csv')"
      ],
      "metadata": {
        "id": "SJDwgIC6Okel"
      },
      "execution_count": 23,
      "outputs": []
    },
    {
      "cell_type": "code",
      "source": [
        "hospital_data('/content/hospitals.json')"
      ],
      "metadata": {
        "colab": {
          "base_uri": "https://localhost:8080/"
        },
        "id": "3pLfzoaYOno0",
        "outputId": "6f1ea031-5bb6-4610-bc95-a2932041eb88"
      },
      "execution_count": 24,
      "outputs": [
        {
          "output_type": "execute_result",
          "data": {
            "text/plain": [
              "[{'system': 'BJC',\n",
              "  'hospitals': [{'name': 'BJC', 'beds': 2000},\n",
              "   {'name': 'BJC WEST COUNTY', 'beds': 1000},\n",
              "   {'name': 'MISSOURI BAPTIST', 'beds': 800}]},\n",
              " {'system': 'SSM',\n",
              "  'hospitals': [{'name': 'SAINT LOUIS UNIVERSITY', 'beds': 1000},\n",
              "   {'name': \"ST.MARY'S\", 'beds': 500}]},\n",
              " {'system': \"ST.LUKE'S\", 'hospitals': [{'name': \"ST.LUKE'S\", 'beds': 800}]}]"
            ]
          },
          "metadata": {},
          "execution_count": 24
        }
      ]
    },
    {
      "cell_type": "markdown",
      "metadata": {
        "id": "FrL-lEm9NoE2"
      },
      "source": [
        "### Step 5: Main business logic\n",
        "\n",
        "Call BODE Score, BODE Risk functions for each patient.\n",
        "\n",
        "For each hospital, calculate Avg BODE score and Avg BODE risk and count the number of cases for each hospital."
      ]
    },
    {
      "cell_type": "code",
      "execution_count": 25,
      "metadata": {
        "id": "7mQmxY3kNoE2"
      },
      "outputs": [],
      "source": [
        "# file names for input and output data\n",
        "patient_csv = \"patient.csv\"\n",
        "hospital_json = \"hospitals.json\"\n",
        "\n",
        "patient_output_file = \"patient_output.csv\"\n",
        "hospital_output_file = \"hospital_output.csv\"\n",
        "\n",
        "# Initialize\n",
        "patient_results = []\n",
        "hospital_output_list = []\n",
        "\n",
        "# Including headers\n",
        "patient_results = [['NAME', 'BODE_SCORE', 'BODE_RISK', 'HOSPITAL']]\n",
        "hospital_output_list = [['HOSPITAL_NAME', 'COPD_COUNT', 'PCT_OF_COPD_CASES_OVER_BEDS', 'AVG_SCORE', 'AVG_RISK']]\n",
        "\n",
        "hospital_names = []\n",
        "hospital_counts = []\n",
        "hospital_total_scores = []\n",
        "hospital_total_risks = []\n",
        "\n",
        "# Load given data using file names\n",
        "patients = patient_data(patient_csv)\n",
        "hospitals = hospital_data(hospital_json)\n",
        "\n",
        "# Loop each patient and get details like name, height, etc.\n",
        "for p in patients:\n",
        "    name = p['NAME']\n",
        "    h = float(p['HEIGHT_M'])\n",
        "    w = float(p['WEIGHT_KG'])\n",
        "    pct = float(p['fev_pct'])\n",
        "    dys = p['dyspnea_description']\n",
        "    dist = float(p['distance_in_meters'])\n",
        "    hosp = p['hospital']\n",
        "\n",
        "    # Calculate BMI, BODE score, and risk using previosuly defined functions\n",
        "    bmi = step1_bmi(w, h)\n",
        "    bode = step2_bode(bmi, pct, dys, dist)\n",
        "    risk = step3_risk(bode)\n",
        "\n",
        "    # Find the index\n",
        "    if hosp not in hospital_names:\n",
        "        hospital_names.append(hosp)  # Add the hospital name\n",
        "        hospital_counts.append(0)  # Initialize\n",
        "        hospital_total_scores.append(0)\n",
        "        hospital_total_risks.append(0)\n",
        "\n",
        "    index = hospital_names.index(hosp)\n",
        "\n",
        "    # get statistics\n",
        "    hospital_counts[index] += 1\n",
        "    hospital_total_scores[index] += bode\n",
        "\n",
        "    # Remove % which will be at the end of the string and convert to int\n",
        "    hospital_total_risks[index] += int(risk[:-1])\n",
        "\n",
        "    # Append data\n",
        "    patient_results.append([name, bode, risk, hosp])\n",
        "\n",
        "# Loop each hospital\n",
        "for hospital_info in hospitals:\n",
        "    for hosp in hospital_info['hospitals']:  # Loop through the list\n",
        "        name = hosp['name']\n",
        "        beds = hosp['beds']\n",
        "\n",
        "        if name in hospital_names:  # Check\n",
        "            index = hospital_names.index(name)  # index\n",
        "            copd_count = hospital_counts[index]  # count of COPD cases\n",
        "            total_sum_score = hospital_total_scores[index]  # total BODE\n",
        "            total_sum_risk = hospital_total_risks[index]  # total risk\n",
        "\n",
        "            # Calculate %\n",
        "            pct_cases_over_beds = round((copd_count / beds) * 100, 2)\n",
        "            # Calculate averages\n",
        "            avg_score = round(total_sum_score / copd_count, 2)\n",
        "            avg_risk = round(total_sum_risk / copd_count, 2)\n",
        "        else:\n",
        "            copd_count = 0\n",
        "            avg_score = 0\n",
        "            avg_risk = 0\n",
        "            pct_cases_over_beds = 0\n",
        "\n",
        "        # Append hospital info\n",
        "        hospital_output_list.append([name, copd_count, pct_cases_over_beds, avg_score, avg_risk])\n",
        "\n",
        "\n",
        "#Write Patient_output.csv\n",
        "with open(patient_output_file, 'w', newline='') as csvfile:\n",
        "    writer = csv.writer(csvfile)\n",
        "    writer.writerows(patient_results)\n",
        "#Write Hospital_output.csv\n",
        "with open(hospital_output_file, 'w', newline='') as csvfile:\n",
        "    writer = csv.writer(csvfile)\n",
        "    writer.writerows(hospital_output_list)"
      ]
    }
  ],
  "metadata": {
    "language_info": {
      "name": "python"
    },
    "colab": {
      "provenance": [],
      "include_colab_link": true
    },
    "kernelspec": {
      "name": "python3",
      "display_name": "Python 3"
    }
  },
  "nbformat": 4,
  "nbformat_minor": 0
}